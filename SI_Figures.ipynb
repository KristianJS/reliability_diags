{
 "cells": [
  {
   "cell_type": "markdown",
   "metadata": {},
   "source": [
    "# NOTEBOOK FOR GENERATING SUPPORTING INFO FIGURES\n",
    "\n",
    "## Figures S1 and S2."
   ]
  },
  {
   "cell_type": "code",
   "execution_count": 1,
   "metadata": {},
   "outputs": [],
   "source": [
    "#Module loading\n",
    "import numpy as np\n",
    "import matplotlib.pyplot as plt\n",
    "import sys\n",
    "import os"
   ]
  },
  {
   "cell_type": "code",
   "execution_count": 5,
   "metadata": {},
   "outputs": [],
   "source": [
    "#Function which returns a pair (y, xs) based on the SN-model from Siegert et al. (2016).\n",
    "#Given parameter choices, y is 'observations' and xs are the ensemble member forecasts.\n",
    "def sim(beta=1, sigma_s=1, sigma_e=1, sigma_eta=1, N=20000):\n",
    "    s = np.random.normal(0,sigma_s,N)\n",
    "    e = np.random.normal(0,sigma_e,N)\n",
    "    y = s + e\n",
    "    xs = []\n",
    "    #The ensemble size is manually set to 2000 here\n",
    "    for k in range(2000):\n",
    "        x = beta*s + np.random.normal(0,sigma_eta,N)\n",
    "        xs.append(x)\n",
    "    xs = np.array(xs)\n",
    "    return y, xs"
   ]
  },
  {
   "cell_type": "code",
   "execution_count": 3,
   "metadata": {},
   "outputs": [],
   "source": [
    "#Given an SN-model pair (y, xs) and a forecast probability p, \n",
    "#compute the proportion of times observations actually occurs.\n",
    "def pf(y,xs,p,N=20000):\n",
    "    xs_upper = np.percentile(xs.flatten(), 100*(2./3))\n",
    "    ts = []\n",
    "    props = []\n",
    "    for t in range(N):\n",
    "        prop=(xs[:,t]>xs_upper).sum()/2000.\n",
    "        props.append(prop)\n",
    "        if (p+0.05>prop) & (prop>p-0.05):\n",
    "            ts.append(t)\n",
    "    return np.array(ts), np.array(props)\n",
    "        "
   ]
  },
  {
   "cell_type": "markdown",
   "metadata": {},
   "source": [
    "## First generating the Monte Carlo samples used in Figure S1a"
   ]
  },
  {
   "cell_type": "code",
   "execution_count": 6,
   "metadata": {},
   "outputs": [
    {
     "name": "stdout",
     "output_type": "stream",
     "text": [
      "n=0\n",
      "n=1\n",
      "n=2\n",
      "n=3\n",
      "n=4\n",
      "n=5\n",
      "n=6\n",
      "n=7\n",
      "n=8\n",
      "n=9\n",
      "n=10\n",
      "n=11\n",
      "n=12\n",
      "n=13\n",
      "n=14\n",
      "n=15\n",
      "n=16\n",
      "n=17\n",
      "n=18\n"
     ]
    }
   ],
   "source": [
    "#Here we are generating the data required for Figure S1a. \n",
    "#We are picking SN-model parameters in a subset of parameter space; for each parameter choice, we are \n",
    "#computing the value P_r(P_f=1/3), with P_r the observed probability and P_f the forecast probability\n",
    "#(as defined in the text)\n",
    "\n",
    "p3s = []\n",
    "for n in range(19):\n",
    "    p3s.append([])\n",
    "\n",
    "\n",
    "betas = np.arange(0.05, 1, 0.05)\n",
    "sigma_es = np.arange(0.05, 2, 0.1)\n",
    "\n",
    "#Looping over parameter choices\n",
    "for n in range(19):\n",
    "    print(\"n=%s\" % n)\n",
    "    for m in range(20):\n",
    "        beta = betas[n]\n",
    "        sigma_e = sigma_es[m]\n",
    "        sigma_s=1\n",
    "        sigma_eta=np.sqrt(1-beta**2+sigma_e**2)\n",
    "        y, xs = sim(beta, sigma_s, sigma_e, sigma_eta)\n",
    "        ts, props = pf(y,xs,1./3)\n",
    "        yprop = (y[ts]>np.percentile(y, 100*(2./3))).sum()/len(ts)\n",
    "        p3s[n].append(yprop)\n",
    "\n",
    "p3s = np.array(p3s)"
   ]
  },
  {
   "cell_type": "markdown",
   "metadata": {},
   "source": [
    "## Now generating data using exact formulae for Figure S1b"
   ]
  },
  {
   "cell_type": "code",
   "execution_count": 7,
   "metadata": {},
   "outputs": [],
   "source": [
    "from scipy.special import erfc, erfcinv"
   ]
  },
  {
   "cell_type": "code",
   "execution_count": 8,
   "metadata": {},
   "outputs": [],
   "source": [
    "#This implements formula (12) from the SI\n",
    "def P_r(P_f, beta, sigma_s, sigma_e, sigma_eta):\n",
    "    top = sigma_eta*erfcinv(2*P_f) + erfcinv(2./3)*(beta*np.sqrt(sigma_s**2+sigma_e**2) - np.sqrt(beta**2*sigma_s**2 + sigma_eta**2))\n",
    "    bottom = beta*sigma_e\n",
    "    total = (1./2)*erfc(top/bottom)\n",
    "    return total\n",
    "\n",
    "#This implements formula (11) from the SI\n",
    "def ProbPf(P_f, beta, sigma_s, sigma_eta):\n",
    "    dist = []\n",
    "    for n in range(5000):\n",
    "        s = np.random.normal(0,sigma_s)\n",
    "        prob_s = (1./2)*erfc((1/(np.sqrt(2)*sigma_eta))*(-beta*s + np.sqrt(2)*erfcinv(2./3)*np.sqrt(beta**2*sigma_s**2+sigma_eta**2)))\n",
    "        dist.append(prob_s)\n",
    "    dist = np.array(dist)\n",
    "    return dist\n",
    "    "
   ]
  },
  {
   "cell_type": "code",
   "execution_count": 9,
   "metadata": {},
   "outputs": [
    {
     "name": "stdout",
     "output_type": "stream",
     "text": [
      "(80, 20)\n"
     ]
    }
   ],
   "source": [
    "#Now looping over parameter space to generate values of P_r(P_f=1/3) using exact formulae.\n",
    "#We use a finer spacing of the parameter range because it's much faster computing things exactly as \n",
    "#opposed to using Monte Carlo sampling!\n",
    "\n",
    "betas = np.arange(0.05, 1, 0.05)\n",
    "betas_theor = np.arange(-1, 1, 0.025)\n",
    "sigma_es = np.arange(0.05, 2, 0.1)\n",
    "\n",
    "p3s_theor = []\n",
    "for n in range(len(betas_theor)):\n",
    "    p3s_theor.append([])\n",
    "\n",
    "for n in range(len(betas_theor)):\n",
    "    #print(\"n=%s\" % n)\n",
    "    for m in range(20):\n",
    "        beta = betas_theor[n]\n",
    "        sigma_e = sigma_es[m]\n",
    "        sigma_s=1\n",
    "        sigma_eta=np.sqrt(1-beta**2+sigma_e**2)\n",
    "        p_r=P_r(1./3, beta, sigma_s, sigma_e, sigma_eta)\n",
    "        p3s_theor[n].append(p_r)\n",
    "\n",
    "p3s_theor = np.array(p3s_theor)\n",
    "print(p3s_theor.shape)"
   ]
  },
  {
   "cell_type": "markdown",
   "metadata": {},
   "source": [
    "## Plotting Figure S1"
   ]
  },
  {
   "cell_type": "code",
   "execution_count": 10,
   "metadata": {},
   "outputs": [
    {
     "data": {
      "image/png": "[encoded data removed]",
      "text/plain": [
       "<Figure size 864x288 with 4 Axes>"
      ]
     },
     "metadata": {
      "needs_background": "light"
     },
     "output_type": "display_data"
    }
   ],
   "source": [
    "fig = plt.figure(figsize=(12,4))\n",
    "\n",
    "ax = fig.add_subplot(121)\n",
    "plt.contourf(p3s.T, levels=np.arange(0.0, 0.4, 0.05), cmap=plt.cm.RdBu_r)\n",
    "plt.colorbar(extend='both')\n",
    "plt.xticks(range(len(betas))[::4], ['%.2f' % betas[n] for n in range(len(betas))][::4])\n",
    "plt.yticks(range(20)[::2], ['%.2f' % sigma_es[n] for n in range(20)][::2])\n",
    "plt.xlabel('beta', fontsize=16)\n",
    "plt.ylabel('$\\sigma_{\\epsilon}$', fontsize=16)\n",
    "plt.title('(a) $\\mathbb{P}(y_t \\,\\,satisfies\\,\\, E  \\mid P_f=1/3)$ - numerical', fontsize=12.5)\n",
    "\n",
    "ax = fig.add_subplot(122)\n",
    "plt.contourf(p3s_theor.T, cmap=plt.cm.RdBu_r)\n",
    "plt.colorbar(extend='both')\n",
    "plt.xticks(range(len(betas_theor)+1)[::10], ['%.2f' % betas_theor[n] for n in range(len(betas_theor))][::10]+[1.0])\n",
    "plt.xlim([0,80])\n",
    "plt.yticks(range(20)[::2], ['%.2f' % sigma_es[n] for n in range(20)][::2])\n",
    "ax.axvline(x=40, color='w', linewidth=5)\n",
    "plt.xlabel('beta', fontsize=16)\n",
    "plt.ylabel('$\\sigma_{\\epsilon}$', fontsize=14)\n",
    "plt.title('(b) $\\mathbb{P}(y_t \\,\\,satisfies\\,\\, E  \\mid P_f=1/3)$ - exact', fontsize=12.5)\n",
    "\n",
    "#plt.savefig('FigureS1.jpg', dpi=300)\n",
    "plt.show()"
   ]
  },
  {
   "cell_type": "markdown",
   "metadata": {},
   "source": [
    "## Now plotting Figure S2"
   ]
  },
  {
   "cell_type": "code",
   "execution_count": 11,
   "metadata": {},
   "outputs": [],
   "source": [
    "#First generate the reliability curve corresponding to that predicted by the SN-model using the \n",
    "#SN-model parameters fitted to UKMO data (cf Siegert et al. 2016)\n",
    "ps = np.linspace(0,1,1000)\n",
    "prs = [P_r(p, 0.27, 0.79, 0.61, 0.99) for p in ps]"
   ]
  },
  {
   "cell_type": "code",
   "execution_count": 12,
   "metadata": {},
   "outputs": [
    {
     "data": {
      "image/png": "[encoded data removed]",
      "text/plain": [
       "<Figure size 432x288 with 1 Axes>"
      ]
     },
     "metadata": {
      "needs_background": "light"
     },
     "output_type": "display_data"
    }
   ],
   "source": [
    "#These are the exact points we computed for the UKMO reliability diagram. We just had the function in\n",
    "#the other notebook print these values, and then we pasted them in here by hand.\n",
    "ukmo_ps = [0.1375, 0.26, 0.36, 0.43, 0.53]\n",
    "ukmo_pfs = [0., 0.154, 0.29, 0.57, 1.]\n",
    "sizes = 3*np.array([10., 65., 35., 35., 10.]) #These are the weights of each point\n",
    "\n",
    "#Plotting\n",
    "fig = plt.figure()\n",
    "ax = fig.add_subplot(111)\n",
    "plt.plot(ps, np.array(prs), 'b-', linewidth=3)\n",
    "plt.plot(ps, ps, 'k-', linewidth=2)\n",
    "plt.scatter(ukmo_ps, ukmo_pfs, c='r', marker='x', s=120, alpha=0.8)\n",
    "ax.axvline(x=1./3, linestyle='--', color='k', linewidth=1.5)\n",
    "ax.axhline(y=1./3, linestyle='--', color='k', linewidth=1.5)\n",
    "plt.xlim([0,1])\n",
    "plt.ylim([-0.03,1.03])\n",
    "plt.xlabel('forecast probability $P_f$', fontsize=12)\n",
    "plt.ylabel('observed frequency $P_r$', fontsize=12)\n",
    "plt.title('Theoretical reliability curve: UKMO parameters', fontsize=13)\n",
    "\n",
    "#plt.savefig('FigureS2.jpg', dpi=300)\n",
    "plt.show()"
   ]
  },
  {
   "cell_type": "code",
   "execution_count": null,
   "metadata": {},
   "outputs": [],
   "source": []
  }
 ],
 "metadata": {
  "kernelspec": {
   "display_name": "Python 3 (ipykernel)",
   "language": "python",
   "name": "python3"
  },
  "language_info": {
   "codemirror_mode": {
    "name": "ipython",
    "version": 3
   },
   "file_extension": ".py",
   "mimetype": "text/x-python",
   "name": "python",
   "nbconvert_exporter": "python",
   "pygments_lexer": "ipython3",
   "version": "3.9.5"
  }
 },
 "nbformat": 4,
 "nbformat_minor": 4
}
