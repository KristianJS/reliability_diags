{
 "cells": [
  {
   "cell_type": "code",
   "execution_count": null,
   "metadata": {},
   "outputs": [],
   "source": [
    "#this contains functions rpc_est which computes an estimate rpc value \n",
    "#and RPC which computes RPC from formula in Siegert et al. paper\n",
    "#run all to generate contour plot data from both funtions that save in .txt files"
   ]
  },
  {
   "cell_type": "code",
   "execution_count": 5,
   "metadata": {},
   "outputs": [],
   "source": [
    "def rpc_est(ensemble, obs):\n",
    "    from scipy.stats import pearsonr\n",
    "\n",
    "    ens_mean = ensemble.mean(axis=0)\n",
    "    ensmean_obs_corr = pearsonr(obs, ens_mean)[0]\n",
    "    ens_mem_corrs = []\n",
    "\n",
    "    for k in range(0,ensemble.shape[0]):\n",
    "        mem = ensemble[k]\n",
    "        ensmean_new = (np.delete(ensemble, k, axis=0)).mean(axis=0)\n",
    "        ens_mem_corr = pearsonr(mem, ensmean_new)[0]\n",
    "        ens_mem_corrs.append(ens_mem_corr)\n",
    "\n",
    "    ensmean_mem_corr = np.mean(ens_mem_corrs).mean()\n",
    "    rpc = ensmean_obs_corr/ensmean_mem_corr\n",
    "    return rpc"
   ]
  },
  {
   "cell_type": "code",
   "execution_count": 6,
   "metadata": {},
   "outputs": [
    {
     "ename": "NameError",
     "evalue": "name 'rcp_est' is not defined",
     "output_type": "error",
     "traceback": [
      "\u001b[0;31m---------------------------------------------------------------------------\u001b[0m",
      "\u001b[0;31mNameError\u001b[0m                                 Traceback (most recent call last)",
      "\u001b[0;32m<ipython-input-6-691d24313390>\u001b[0m in \u001b[0;36m<module>\u001b[0;34m\u001b[0m\n\u001b[1;32m     37\u001b[0m             \u001b[0mx_t\u001b[0m\u001b[0;34m[\u001b[0m\u001b[0;34m:\u001b[0m\u001b[0;34m,\u001b[0m\u001b[0mn\u001b[0m\u001b[0;34m,\u001b[0m\u001b[0mq\u001b[0m\u001b[0;34m,\u001b[0m\u001b[0mp\u001b[0m\u001b[0;34m]\u001b[0m \u001b[0;34m=\u001b[0m \u001b[0mmu_x\u001b[0m \u001b[0;34m+\u001b[0m \u001b[0mbeta\u001b[0m\u001b[0;34m[\u001b[0m\u001b[0mq\u001b[0m\u001b[0;34m]\u001b[0m\u001b[0;34m*\u001b[0m\u001b[0ms_t\u001b[0m\u001b[0;34m[\u001b[0m\u001b[0mn\u001b[0m\u001b[0;34m,\u001b[0m\u001b[0;36m0\u001b[0m\u001b[0;34m]\u001b[0m\u001b[0;34m+\u001b[0m\u001b[0meta\u001b[0m\u001b[0;34m[\u001b[0m\u001b[0;34m:\u001b[0m\u001b[0;34m,\u001b[0m\u001b[0mn\u001b[0m\u001b[0;34m,\u001b[0m\u001b[0mp\u001b[0m\u001b[0;34m]\u001b[0m\u001b[0;34m\u001b[0m\u001b[0;34m\u001b[0m\u001b[0m\n\u001b[1;32m     38\u001b[0m \u001b[0;34m\u001b[0m\u001b[0m\n\u001b[0;32m---> 39\u001b[0;31m \u001b[0mrcp_est\u001b[0m\u001b[0;34m(\u001b[0m\u001b[0mx_t\u001b[0m\u001b[0;34m[\u001b[0m\u001b[0;34m:\u001b[0m\u001b[0;34m,\u001b[0m\u001b[0;34m:\u001b[0m\u001b[0;34m,\u001b[0m\u001b[0;36m0\u001b[0m\u001b[0;34m,\u001b[0m\u001b[0;36m0\u001b[0m\u001b[0;34m]\u001b[0m\u001b[0;34m,\u001b[0m\u001b[0my_t\u001b[0m\u001b[0;34m)\u001b[0m\u001b[0;34m\u001b[0m\u001b[0;34m\u001b[0m\u001b[0m\n\u001b[0m",
      "\u001b[0;31mNameError\u001b[0m: name 'rcp_est' is not defined"
     ]
    }
   ],
   "source": [
    "#RPC estimate from generated data\n",
    "import numpy as np\n",
    "\n",
    "mu_x=20\n",
    "mu_y=20\n",
    "sigma2_s=50\n",
    "sigma2_eps=50\n",
    "alpha=np.logspace(-1,1,101)\n",
    "\n",
    "sigma2_eta=alpha*sigma2_eps\n",
    "\n",
    "beta=np.logspace(-1,1,101)\n",
    "\n",
    "ens=51\n",
    "time=1000\n",
    "a=0\n",
    "b=time\n",
    "total=1000*51\n",
    "\n",
    "s_t=np.zeros(time*101).reshape(time,101)\n",
    "eps=np.zeros(time)\n",
    "eta=np.zeros(51*time*101).reshape(51,time,101)\n",
    "y_t=np.zeros(time)\n",
    "x_t=np.zeros(51*time*101*101).reshape(51,time,101,101)\n",
    "\n",
    "for i in range(51):\n",
    "    for m in range(time):\n",
    "        for p in range(101):\n",
    "            eta[i,m,p]= np.random.normal(loc=0.0, scale=(sigma2_eta[p]**0.5), size=None)\n",
    "\n",
    "for n in range(time):\n",
    "    s_t[n] = np.random.normal(loc=0.0, scale=(sigma2_s**0.5), size=None)\n",
    "    eps[n] = np.random.normal(loc=0.0, scale=sigma2_eps**0.5, size=None)\n",
    "    y_t[n] = mu_y+s_t[n,0]+eps[n]\n",
    "    for p in range(101):\n",
    "        for q in range(101):\n",
    "            x_t[:,n,q,p] = mu_x + beta[q]*s_t[n,0]+eta[:,n,p]\n",
    "\n",
    "rpc_est(x_t[:,:,0,0],y_t)\n"
   ]
  },
  {
   "cell_type": "code",
   "execution_count": 7,
   "metadata": {},
   "outputs": [
    {
     "ename": "KeyboardInterrupt",
     "evalue": "",
     "output_type": "error",
     "traceback": [
      "\u001b[0;31m---------------------------------------------------------------------------\u001b[0m",
      "\u001b[0;31mKeyboardInterrupt\u001b[0m                         Traceback (most recent call last)",
      "\u001b[0;32m<ipython-input-7-692991ab0f3c>\u001b[0m in \u001b[0;36m<module>\u001b[0;34m\u001b[0m\n\u001b[1;32m      2\u001b[0m \u001b[0;32mfor\u001b[0m \u001b[0mi\u001b[0m \u001b[0;32min\u001b[0m \u001b[0mrange\u001b[0m\u001b[0;34m(\u001b[0m\u001b[0;36m101\u001b[0m\u001b[0;34m)\u001b[0m\u001b[0;34m:\u001b[0m\u001b[0;34m\u001b[0m\u001b[0;34m\u001b[0m\u001b[0m\n\u001b[1;32m      3\u001b[0m     \u001b[0;32mfor\u001b[0m \u001b[0mj\u001b[0m \u001b[0;32min\u001b[0m \u001b[0mrange\u001b[0m\u001b[0;34m(\u001b[0m\u001b[0;36m101\u001b[0m\u001b[0;34m)\u001b[0m\u001b[0;34m:\u001b[0m\u001b[0;34m\u001b[0m\u001b[0;34m\u001b[0m\u001b[0m\n\u001b[0;32m----> 4\u001b[0;31m         \u001b[0mRPC_data\u001b[0m\u001b[0;34m[\u001b[0m\u001b[0mi\u001b[0m\u001b[0;34m,\u001b[0m\u001b[0mj\u001b[0m\u001b[0;34m]\u001b[0m\u001b[0;34m=\u001b[0m\u001b[0mrpc_est\u001b[0m\u001b[0;34m(\u001b[0m\u001b[0mx_t\u001b[0m\u001b[0;34m[\u001b[0m\u001b[0;34m:\u001b[0m\u001b[0;34m,\u001b[0m\u001b[0;34m:\u001b[0m\u001b[0;34m,\u001b[0m\u001b[0mi\u001b[0m\u001b[0;34m,\u001b[0m\u001b[0mj\u001b[0m\u001b[0;34m]\u001b[0m\u001b[0;34m,\u001b[0m\u001b[0my_t\u001b[0m\u001b[0;34m)\u001b[0m\u001b[0;34m\u001b[0m\u001b[0;34m\u001b[0m\u001b[0m\n\u001b[0m",
      "\u001b[0;32m<ipython-input-5-11fb170d34a7>\u001b[0m in \u001b[0;36mrpc_est\u001b[0;34m(ensemble, obs)\u001b[0m\n\u001b[1;32m      2\u001b[0m     \u001b[0;32mfrom\u001b[0m \u001b[0mscipy\u001b[0m\u001b[0;34m.\u001b[0m\u001b[0mstats\u001b[0m \u001b[0;32mimport\u001b[0m \u001b[0mpearsonr\u001b[0m\u001b[0;34m\u001b[0m\u001b[0;34m\u001b[0m\u001b[0m\n\u001b[1;32m      3\u001b[0m \u001b[0;34m\u001b[0m\u001b[0m\n\u001b[0;32m----> 4\u001b[0;31m     \u001b[0mens_mean\u001b[0m \u001b[0;34m=\u001b[0m \u001b[0mensemble\u001b[0m\u001b[0;34m.\u001b[0m\u001b[0mmean\u001b[0m\u001b[0;34m(\u001b[0m\u001b[0maxis\u001b[0m\u001b[0;34m=\u001b[0m\u001b[0;36m0\u001b[0m\u001b[0;34m)\u001b[0m\u001b[0;34m\u001b[0m\u001b[0;34m\u001b[0m\u001b[0m\n\u001b[0m\u001b[1;32m      5\u001b[0m     \u001b[0mensmean_obs_corr\u001b[0m \u001b[0;34m=\u001b[0m \u001b[0mpearsonr\u001b[0m\u001b[0;34m(\u001b[0m\u001b[0mobs\u001b[0m\u001b[0;34m,\u001b[0m \u001b[0mens_mean\u001b[0m\u001b[0;34m)\u001b[0m\u001b[0;34m[\u001b[0m\u001b[0;36m0\u001b[0m\u001b[0;34m]\u001b[0m\u001b[0;34m\u001b[0m\u001b[0;34m\u001b[0m\u001b[0m\n\u001b[1;32m      6\u001b[0m     \u001b[0mens_mem_corrs\u001b[0m \u001b[0;34m=\u001b[0m \u001b[0;34m[\u001b[0m\u001b[0;34m]\u001b[0m\u001b[0;34m\u001b[0m\u001b[0;34m\u001b[0m\u001b[0m\n",
      "\u001b[0;32m~/opt/anaconda3/lib/python3.7/site-packages/numpy/core/_methods.py\u001b[0m in \u001b[0;36m_mean\u001b[0;34m(a, axis, dtype, out, keepdims)\u001b[0m\n\u001b[1;32m    149\u001b[0m             \u001b[0mis_float16_result\u001b[0m \u001b[0;34m=\u001b[0m \u001b[0;32mTrue\u001b[0m\u001b[0;34m\u001b[0m\u001b[0;34m\u001b[0m\u001b[0m\n\u001b[1;32m    150\u001b[0m \u001b[0;34m\u001b[0m\u001b[0m\n\u001b[0;32m--> 151\u001b[0;31m     \u001b[0mret\u001b[0m \u001b[0;34m=\u001b[0m \u001b[0mumr_sum\u001b[0m\u001b[0;34m(\u001b[0m\u001b[0marr\u001b[0m\u001b[0;34m,\u001b[0m \u001b[0maxis\u001b[0m\u001b[0;34m,\u001b[0m \u001b[0mdtype\u001b[0m\u001b[0;34m,\u001b[0m \u001b[0mout\u001b[0m\u001b[0;34m,\u001b[0m \u001b[0mkeepdims\u001b[0m\u001b[0;34m)\u001b[0m\u001b[0;34m\u001b[0m\u001b[0;34m\u001b[0m\u001b[0m\n\u001b[0m\u001b[1;32m    152\u001b[0m     \u001b[0;32mif\u001b[0m \u001b[0misinstance\u001b[0m\u001b[0;34m(\u001b[0m\u001b[0mret\u001b[0m\u001b[0;34m,\u001b[0m \u001b[0mmu\u001b[0m\u001b[0;34m.\u001b[0m\u001b[0mndarray\u001b[0m\u001b[0;34m)\u001b[0m\u001b[0;34m:\u001b[0m\u001b[0;34m\u001b[0m\u001b[0;34m\u001b[0m\u001b[0m\n\u001b[1;32m    153\u001b[0m         ret = um.true_divide(\n",
      "\u001b[0;31mKeyboardInterrupt\u001b[0m: "
     ]
    }
   ],
   "source": [
    "RPC_est_data=np.zeros([101,101])\n",
    "for i in range(101):\n",
    "    for j in range(101):\n",
    "        RPC_est_data[i,j]=rpc_est(x_t[:,:,i,j],y_t)"
   ]
  },
  {
   "cell_type": "code",
   "execution_count": 38,
   "metadata": {},
   "outputs": [],
   "source": [
    "# save the RPC estimate data for the 4 panle contour plot\n",
    "a_file = open(\"RPC_contour_data_est.txt\", \"w\")\n",
    "for row in RPC_est_data:\n",
    "    np.savetxt(a_file, row)\n",
    "a_file.close()"
   ]
  },
  {
   "cell_type": "code",
   "execution_count": null,
   "metadata": {},
   "outputs": [],
   "source": [
    "# the following contour plot uses to RPC formula from the Siegert et. al. paper\n",
    "# values calculated in the RPC function"
   ]
  },
  {
   "cell_type": "code",
   "execution_count": 2,
   "metadata": {},
   "outputs": [],
   "source": [
    "%matplotlib inline\n",
    "%config InlineBackend.figure_format = 'png'\n",
    "%config InlineBackend.dpi = 300\n",
    "import numpy as np\n",
    "import matplotlib\n",
    "import matplotlib.pyplot as plt\n",
    "from mpl_toolkits.axes_grid1 import AxesGrid\n",
    "#import proplot as pplt\n",
    "plt.style.use('seaborn-white')\n",
    "orig_cmap = matplotlib.cm.bwr\n",
    "\n",
    "def shiftedColorMap(cmap, start=0, midpoint=0.5, stop=1.0, name='shiftedcmap'):\n",
    "    '''\n",
    "      cmap : The matplotlib colormap to be altered\n",
    "      start : Offset from lowest point in the colormap's range.\n",
    "          Defaults to 0.0 (no lower ofset). Should be between\n",
    "          0.0 and 1.0.\n",
    "      midpoint : The new center of the colormap. Defaults to \n",
    "          0.5 (no shift). Should be between 0.0 and 1.0. '''\n",
    "    \n",
    "    cdict = {'red': [],'green': [],'blue': [],'alpha': []}\n",
    "      \n",
    "    # regular index to compute the colors\n",
    "    reg_index = np.linspace(start, stop, 257)\n",
    "    # shifted index to match the data\n",
    "    shift_index = np.hstack([\n",
    "        np.linspace(0.0, midpoint, 128, endpoint=False), \n",
    "        np.linspace(midpoint, 1.0, 129, endpoint=True)])\n",
    "    \n",
    "    for ri, si in zip(reg_index, shift_index):\n",
    "        r, g, b, a = cmap(ri)\n",
    "        cdict['red'].append((si, r, r))\n",
    "        cdict['green'].append((si, g, g))\n",
    "        cdict['blue'].append((si, b, b))\n",
    "        cdict['alpha'].append((si, a, a))\n",
    "        \n",
    "    newcmap = matplotlib.colors.LinearSegmentedColormap(name, cdict)\n",
    "    plt.register_cmap(cmap=newcmap)\n",
    "    return newcmap\n",
    "shifted_cmap = shiftedColorMap(orig_cmap, midpoint=5/18, name='shifted')"
   ]
  },
  {
   "cell_type": "code",
   "execution_count": 2,
   "metadata": {},
   "outputs": [
    {
     "name": "stdout",
     "output_type": "stream",
     "text": [
      "<matplotlib.colors.LinearSegmentedColormap object at 0x7fd7fc18f050>\n"
     ]
    }
   ],
   "source": [
    "print(shifted_cmap)\n",
    "shifted_cmap?"
   ]
  },
  {
   "cell_type": "code",
   "execution_count": null,
   "metadata": {},
   "outputs": [],
   "source": [
    "%matplotlib inline\n",
    "import matplotlib.pyplot as plt\n",
    "plt.style.use('seaborn-white')\n",
    "import numpy as np\n",
    "\n",
    "fig, axs = plt.subplots(1, dpi=500)\n",
    "axs.set_aspect(1)\n",
    "\n",
    "fig.tight_layout()\n",
    "#plt.figure(figsize=(5, 5))\n",
    "\n",
    "#sig_x actually refers to sigma^2 the variance\n",
    "sig_eps=16\n",
    "sig_s=50\n",
    "R=51\n",
    "\n",
    "beta = np.logspace(-1, 1, 101)\n",
    "y = np.logspace(-1, 1, 101)\n",
    "\n",
    "numerator=(1+y*sig_eps/((beta**2)*sig_s))**0.5\n",
    "denom=((1+sig_eps/sig_s)*(1+y*sig_eps/(R*sig_s*(beta**2))))**0.5\n",
    "\n",
    "def RPC(numerator, denom):\n",
    "    return (numerator/denom)\n",
    "\n",
    "X, Y = np.meshgrid( y, beta)\n",
    "Z = RPC(X, Y)\n",
    "print(Z)\n",
    "level=[0,0.1,0.2,0.4,0.6,0.8,1,1.2,1.4,1.6,2,2.4,2.8,3.2,3.6]\n",
    "c=axs.contourf(X, Y, Z, 20, levels=level, extend='both', cmap=shifted_cmap)\n",
    "\n",
    "axs.set_xscale('log')\n",
    "axs.set_yscale('log')\n",
    "#plt.colorbar(); \n",
    "cbar = fig.colorbar(c)\n",
    "axs.set_title(\"RPC value\")\n",
    "axs.set_ylabel(\"β\")\n",
    "axs.set_xlabel(\"$σ_{η}$$^2$/$σ_{ε}$$^2$\")\n",
    "axs.plot(y, np.ones(101), color='black', linewidth=0.5)\n",
    "axs.plot(np.ones(101), beta, color='black', linewidth=0.5)\n",
    "#axs.set_yticks([0.2,0.4,0.6,0.8])\n",
    "#plt.savefig('Documents/RPC_contour', bbox_inches='tight')\n",
    "\n",
    "plt.show()"
   ]
  },
  {
   "cell_type": "code",
   "execution_count": null,
   "metadata": {},
   "outputs": [],
   "source": [
    "%matplotlib inline\n",
    "import matplotlib.pyplot as plt\n",
    "plt.style.use('seaborn-white')\n",
    "import numpy as np\n",
    "\n",
    "fig, axs = plt.subplots(1, dpi=500)\n",
    "axs.set_aspect(1)\n",
    "\n",
    "fig.tight_layout()\n",
    "#plt.figure(figsize=(5, 5))\n",
    "\n",
    "#sig_x actually refers to sigma^2 the variance\n",
    "sig_eps=16\n",
    "sig_s=50\n",
    "R=51\n",
    "\n",
    "beta = np.logspace(-1, 1, 101)\n",
    "y = np.logspace(-1, 1, 101)\n",
    "\n",
    "numerator=(1+y*sig_eps/((beta**2)*sig_s))**0.5\n",
    "denom=((1+sig_eps/sig_s)*(1+y*sig_eps/(R*sig_s*(beta**2))))**0.5\n",
    "\n",
    "def RPC(y, beta):\n",
    "    sig_eps=16\n",
    "    sig_s=50\n",
    "    R=51\n",
    "    numerator=(1+y*sig_eps/((beta**2)*sig_s))**0.5\n",
    "    denom=((1+sig_eps/sig_s)*(1+y*sig_eps/(R*sig_s*(beta**2))))**0.5\n",
    "\n",
    "    return (numerator/denom)\n",
    "\n",
    "X, Y = np.meshgrid( y, beta)\n",
    "Z = RPC(X, Y)\n",
    "print(Z)\n",
    "level=[0,0.1,0.2,0.4,0.6,0.8,1,1.2,1.4,1.6,2,2.4,2.8,3.2,3.6]\n",
    "c=axs.contourf(X, Y, Z, 20, levels=level, extend='both', cmap=shifted_cmap)\n",
    "\n",
    "axs.set_xscale('log')\n",
    "axs.set_yscale('log')\n",
    "#plt.colorbar(); \n",
    "cbar = fig.colorbar(c)\n",
    "axs.set_title(\"RPC value\")\n",
    "axs.set_ylabel(\"β\")\n",
    "axs.set_xlabel(\"$σ_{η}$$^2$/$σ_{ε}$$^2$\")\n",
    "axs.plot(y, np.ones(101), color='black', linewidth=0.5)\n",
    "axs.plot(np.ones(101), beta, color='black', linewidth=0.5)\n",
    "#axs.set_yticks([0.2,0.4,0.6,0.8])\n",
    "#plt.savefig('Documents/RPC_contour', bbox_inches='tight')\n",
    "\n",
    "plt.show()"
   ]
  },
  {
   "cell_type": "code",
   "execution_count": 17,
   "metadata": {},
   "outputs": [],
   "source": [
    "a_file = open(\"RPC_contour_data.txt\", \"w\")\n",
    "for row in Z:\n",
    "    np.savetxt(a_file, row)\n",
    "a_file.close()"
   ]
  },
  {
   "cell_type": "code",
   "execution_count": null,
   "metadata": {},
   "outputs": [],
   "source": []
  }
 ],
 "metadata": {
  "kernelspec": {
   "display_name": "Python 3",
   "language": "python",
   "name": "python3"
  },
  "language_info": {
   "codemirror_mode": {
    "name": "ipython",
    "version": 3
   },
   "file_extension": ".py",
   "mimetype": "text/x-python",
   "name": "python",
   "nbconvert_exporter": "python",
   "pygments_lexer": "ipython3",
   "version": "3.7.4"
  }
 },
 "nbformat": 4,
 "nbformat_minor": 2
}
